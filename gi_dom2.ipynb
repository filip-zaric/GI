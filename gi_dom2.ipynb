{
 "cells": [
  {
   "cell_type": "code",
   "execution_count": 1,
   "id": "6ffb46bd-ebba-4566-a86e-43c6b97c4484",
   "metadata": {},
   "outputs": [
    {
     "name": "stdout",
     "output_type": "stream",
     "text": [
      "Requirement already satisfied: pysam in /opt/conda/lib/python3.9/site-packages (0.20.0)\n"
     ]
    }
   ],
   "source": [
    "!python -m pip install pysam"
   ]
  },
  {
   "cell_type": "code",
   "execution_count": 7,
   "id": "732e6c0f-20bf-4062-9216-2da89d2fc04e",
   "metadata": {},
   "outputs": [
    {
     "name": "stdout",
     "output_type": "stream",
     "text": [
      "Prvi read jeC0HVYACXX120402:7:1207:5722:57044\t1187\t#20\t9483249\t27\t76M\t#20\t9483382\t209\tTTTTCAAACAGTATCTATGCCTGCCAAATGTGAACATATAAAAAAAAACCAGAATGTGCCATTCTGATTTAAACTG\tarray('B', [28, 28, 27, 29, 31, 30, 31, 31, 29, 31, 35, 30, 29, 31, 34, 30, 29, 23, 41, 32, 20, 30, 29, 34, 34, 29, 30, 31, 30, 30, 30, 33, 33, 26, 39, 12, 25, 19, 32, 30, 35, 28, 35, 33, 23, 33, 35, 36, 30, 38, 33, 41, 34, 35, 31, 33, 23, 30, 30, 36, 27, 32, 29, 34, 35, 41, 33, 31, 33, 29, 32, 32, 31, 31, 31, 34])\t[('XA', 'GL000217.1,-110754,76M,1;'), ('BD', 'NNNNNNNNNNNNNNNNNNNNNNNNNNNNNNNNNNNNNNNNNNNNNNNNNNNNNNNNNNNNNNNNNNNNNNNNNNNN'), ('MD', '76'), ('RG', '1'), ('BI', 'NNNNNNNNNNNNNNNNNNNNNNNNNNNNNNNNNNNNNNNNNNNNNNNNNNNNNNNNNNNNNNNNNNNNNNNNNNNN'), ('NM', 0), ('MQ', 27), ('AS', 76), ('XS', 71)]\n",
      "\n",
      "Flag-ovi nekih read-ova\n",
      "\n",
      "99\n",
      "\n",
      "147\n",
      "\n",
      "99\n",
      "\n",
      "99\n",
      "\n",
      "99\n",
      "\n",
      "99\n",
      "\n",
      "163\n",
      "\n",
      "99\n",
      "\n",
      "99\n",
      "\n",
      "99\n",
      "\n"
     ]
    }
   ],
   "source": [
    "import pysam\n",
    "samfile = pysam.AlignmentFile(\"merged-tumor.bam\", \"rb\")\n",
    "i=0\n",
    "for read in samfile.fetch():\n",
    "     if(i==0):\n",
    "            print(\"Prvi read je\"+str(read)+'\\n')\n",
    "            print(\"Flag-ovi nekih read-ova\\n\")\n",
    "     i+=1 \n",
    "     if(i%10 == 5 and i<100):\n",
    "            print(str(read.flag)+'\\n')\n",
    "        "
   ]
  },
  {
   "cell_type": "code",
   "execution_count": 8,
   "id": "fdd24a8a-d2d6-49ee-bf83-f786ed1d8663",
   "metadata": {},
   "outputs": [
    {
     "name": "stdout",
     "output_type": "stream",
     "text": [
      "Ukupno read-ova ima 2921629\n",
      "\n",
      "Nemapiranih read-ova ima 17765\n",
      "\n",
      "Read-ova sa mapping quality 0 ima 126628\n",
      "\n",
      "Prosecan mapping quality je 55.91379158681681\n",
      "\n",
      "Prosecan mapping quality ako isfiltriramo one sa mapping quality 0 je 58.446975510921106\n",
      "\n"
     ]
    }
   ],
   "source": [
    "count_all=0\n",
    "count_unmapped=0\n",
    "count_mapq_0=0\n",
    "sum_mapq=0\n",
    "for read in samfile.fetch():\n",
    "    count_all += 1\n",
    "    if read.is_unmapped:\n",
    "        count_unmapped +=1\n",
    "    sum_mapq+=read.mapping_quality\n",
    "    if read.mapping_quality == 0:\n",
    "        count_mapq_0 +=1\n",
    "\n",
    "avg_q=(sum_mapq * 1.0)/count_all\n",
    "avg_q_0=(sum_mapq * 1.0)/(count_all-count_mapq_0)\n",
    "print(\"Ukupno read-ova ima \"+str(count_all)+'\\n')\n",
    "print(\"Nemapiranih read-ova ima \"+str(count_unmapped)+'\\n')\n",
    "print(\"Read-ova sa mapping quality 0 ima \"+str(count_mapq_0)+'\\n')\n",
    "print(\"Prosecan mapping quality je \"+str(avg_q)+'\\n')\n",
    "print(\"Prosecan mapping quality ako isfiltriramo one sa mapping quality 0 je \"+str(avg_q_0)+'\\n')\n",
    "\n",
    "samfile.close()    "
   ]
  },
  {
   "cell_type": "code",
   "execution_count": null,
   "id": "376a60c0-0962-4fd7-ae57-5da485ce4ce2",
   "metadata": {},
   "outputs": [],
   "source": []
  }
 ],
 "metadata": {
  "kernelspec": {
   "display_name": "Python 3 (ipykernel)",
   "language": "python",
   "name": "python3"
  },
  "language_info": {
   "codemirror_mode": {
    "name": "ipython",
    "version": 3
   },
   "file_extension": ".py",
   "mimetype": "text/x-python",
   "name": "python",
   "nbconvert_exporter": "python",
   "pygments_lexer": "ipython3",
   "version": "3.9.6"
  }
 },
 "nbformat": 4,
 "nbformat_minor": 5
}
